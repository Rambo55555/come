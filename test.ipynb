{
 "cells": [
  {
   "cell_type": "code",
   "execution_count": 2,
   "metadata": {},
   "outputs": [
    {
     "name": "stderr",
     "output_type": "stream",
     "text": [
      "Retrieving with TF-IDF: 100%|██████████| 75000/75000 [1:09:16<00:00, 18.04it/s]\n"
     ]
    }
   ],
   "source": [
    "from utils import read_examples, find_similar_message\n",
    "filename = '/mnt/ssd2/rambo/data/come_data/summarize/java/train.jsonl'\n",
    "examples = read_examples(filename, -1, 'summarize')\n",
    "examples = find_similar_message(examples, examples, k=1)"
   ]
  },
  {
   "cell_type": "code",
   "execution_count": 1,
   "metadata": {},
   "outputs": [
    {
     "name": "stderr",
     "output_type": "stream",
     "text": [
      "/home/rambo/miniconda3/envs/come/lib/python3.6/site-packages/tqdm/auto.py:22: TqdmWarning: IProgress not found. Please update jupyter and ipywidgets. See https://ipywidgets.readthedocs.io/en/stable/user_install.html\n",
      "  from .autonotebook import tqdm as notebook_tqdm\n"
     ]
    },
    {
     "name": "stdout",
     "output_type": "stream",
     "text": [
      "<diff> token ID: 32100\n",
      "<msg> token ID: 32101\n"
     ]
    }
   ],
   "source": [
    "import os\n",
    "os.environ['HUGGINGFACE_CO_RESOLVE_ENDPOINT'] = 'https://hf-mirror.com'\n",
    "from transformers import AutoTokenizer\n",
    "\n",
    "# 加载预训练的 tokenizer\n",
    "tokenizer = AutoTokenizer.from_pretrained(\"Salesforce/codet5-base\")\n",
    "\n",
    "# 添加新的特殊 token\n",
    "special_tokens_dict = {'additional_special_tokens': ['<diff>', '<msg>']}\n",
    "tokenizer.add_special_tokens(special_tokens_dict)\n",
    "\n",
    "# 获取 `<diff>` 和 `<msg>` 的 token ID\n",
    "diff_token_id = tokenizer.convert_tokens_to_ids('<diff>')\n",
    "msg_token_id = tokenizer.convert_tokens_to_ids('<msg>')\n",
    "\n",
    "print(f\"<diff> token ID: {diff_token_id}\")\n",
    "print(f\"<msg> token ID: {msg_token_id}\")\n"
   ]
  },
  {
   "cell_type": "code",
   "execution_count": 2,
   "metadata": {},
   "outputs": [
    {
     "data": {
      "text/plain": [
       "(['a', 'b', 'd', 'c'], [0, 1, 2, 0])"
      ]
     },
     "execution_count": 2,
     "metadata": {},
     "output_type": "execute_result"
    }
   ],
   "source": [
    "def calcu_edit_distance(del_token, add_token):\n",
    "    ''' What operation did del_token become add_token through '''\n",
    "\n",
    "    m = len(del_token)\n",
    "    n = len(add_token)\n",
    "    dp = [[0] * (n + 1) for _ in range(m + 1)]\n",
    "\n",
    "    for i in range(1, m + 1):\n",
    "        dp[i][0] = i\n",
    "\n",
    "    for j in range(1, n + 1):\n",
    "        dp[0][j] = j\n",
    "\n",
    "    for i in range(1, m + 1):\n",
    "        for j in range(1, n + 1):\n",
    "            if del_token[i - 1] == add_token[j - 1]:\n",
    "                dp[i][j] = dp[i - 1][j - 1]\n",
    "            else:\n",
    "                dp[i][j] = min(dp[i - 1][j - 1], dp[i - 1][j], dp[i][j - 1]) + 1\n",
    "\n",
    "    i = len(dp) - 1\n",
    "    j = len(dp[0]) - 1\n",
    "    res = []\n",
    "    while i > 0 or j > 0:\n",
    "        a = dp[i - 1][j - 1] if i > 0 and j > 0 else float(\"inf\")\n",
    "        b = dp[i - 1][j] if i > 0 else float(\"inf\")\n",
    "        c = dp[i][j - 1] if j > 0 else float(\"inf\")\n",
    "        min_val = min([a, b, c])\n",
    "\n",
    "        if dp[i][j] == a and a == min_val:\n",
    "            i -= 1\n",
    "            j -= 1\n",
    "            assert del_token[i] == add_token[j]\n",
    "            res.append((del_token[i], 0)) # ori\n",
    "        elif a == min([a, b, c]):\n",
    "            i -= 1\n",
    "            j -= 1\n",
    "            res.append((add_token[j], 2)) # add\n",
    "            res.append((del_token[i], 1)) # del\n",
    "        elif b == min([a, b, c]):\n",
    "            i = i - 1\n",
    "            res.append((del_token[i], 1)) # del\n",
    "        else:\n",
    "            j = j - 1\n",
    "            res.append((add_token[j], 2)) # add\n",
    "    res = res[::-1]\n",
    "    res_token = [r[0] for r in res]\n",
    "    res_tag =  [r[1] for r in res]\n",
    "    return res_token, res_tag\n",
    "\n",
    "del_token = ['a', 'b', 'c']\n",
    "add_token = ['a','d','c']\n",
    "calcu_edit_distance(del_token, add_token)"
   ]
  },
  {
   "cell_type": "code",
   "execution_count": 4,
   "metadata": {},
   "outputs": [
    {
     "name": "stdout",
     "output_type": "stream",
     "text": [
      "Looking in indexes: http://mirrors.aliyun.com/pypi/simple/\n",
      "Collecting networkx\n",
      "  Downloading http://mirrors.aliyun.com/pypi/packages/f3/b7/c7f488101c0bb5e4178f3cde416004280fd40262433496830de8a8c21613/networkx-2.5.1-py3-none-any.whl (1.6 MB)\n",
      "\u001b[K     |████████████████████████████████| 1.6 MB 221 kB/s eta 0:00:01\n",
      "\u001b[?25hCollecting decorator<5,>=4.3\n",
      "  Downloading http://mirrors.aliyun.com/pypi/packages/ed/1b/72a1821152d07cf1d8b6fce298aeb06a7eb90f4d6d41acec9861e7cc6df0/decorator-4.4.2-py2.py3-none-any.whl (9.2 kB)\n",
      "Installing collected packages: decorator, networkx\n",
      "  Attempting uninstall: decorator\n",
      "    Found existing installation: decorator 5.1.1\n",
      "    Uninstalling decorator-5.1.1:\n",
      "      Successfully uninstalled decorator-5.1.1\n",
      "Successfully installed decorator-4.4.2 networkx-2.5.1\n",
      "Note: you may need to restart the kernel to use updated packages.\n"
     ]
    }
   ],
   "source": [
    "%pip install networkx\n"
   ]
  },
  {
   "cell_type": "code",
   "execution_count": 5,
   "metadata": {},
   "outputs": [
    {
     "data": {
      "image/png": "[encoded data removed]",
      "text/plain": [
       "<Figure size 864x576 with 1 Axes>"
      ]
     },
     "metadata": {},
     "output_type": "display_data"
    },
    {
     "data": {
      "image/png": "[encoded data removed]",
      "text/plain": [
       "<Figure size 864x576 with 1 Axes>"
      ]
     },
     "metadata": {},
     "output_type": "display_data"
    }
   ],
   "source": [
    "import ast\n",
    "import networkx as nx\n",
    "import matplotlib.pyplot as plt\n",
    "\n",
    "# 解析代码并构建AST\n",
    "def parse_code_to_ast(code):\n",
    "    return ast.parse(code)\n",
    "\n",
    "# 提取AST中的实体和关系\n",
    "def extract_entities_and_relations(ast_tree):\n",
    "    entities = []\n",
    "    relations = []\n",
    "    \n",
    "    class CodeVisitor(ast.NodeVisitor):\n",
    "        def visit_FunctionDef(self, node):\n",
    "            entities.append(('function', node.name))\n",
    "            for stmt in node.body:\n",
    "                if isinstance(stmt, ast.Assign):\n",
    "                    for target in stmt.targets:\n",
    "                        if isinstance(target, ast.Name):\n",
    "                            relations.append((node.name, 'defines', target.id))\n",
    "            self.generic_visit(node)\n",
    "\n",
    "        def visit_ClassDef(self, node):\n",
    "            entities.append(('class', node.name))\n",
    "            self.generic_visit(node)\n",
    "\n",
    "        def visit_Call(self, node):\n",
    "            if isinstance(node.func, ast.Name):\n",
    "                relations.append((node.func.id, 'calls', node.func.id))\n",
    "            self.generic_visit(node)\n",
    "\n",
    "    CodeVisitor().visit(ast_tree)\n",
    "    return entities, relations\n",
    "\n",
    "# 构建知识图谱\n",
    "def build_knowledge_graph(entities, relations):\n",
    "    graph = nx.DiGraph()\n",
    "    for entity in entities:\n",
    "        graph.add_node(entity[1], type=entity[0])\n",
    "    for relation in relations:\n",
    "        graph.add_edge(relation[0], relation[2], type=relation[1])\n",
    "    return graph\n",
    "\n",
    "# 旧代码\n",
    "old_code = \"\"\"\n",
    "def foo(x):\n",
    "    a = x + 1\n",
    "    return a\n",
    "\n",
    "class Bar:\n",
    "    def baz(self, y):\n",
    "        return y * 2\n",
    "\"\"\"\n",
    "\n",
    "# 新代码\n",
    "new_code = \"\"\"\n",
    "def foo(x):\n",
    "    b = x + 2\n",
    "    return b\n",
    "\n",
    "class Bar:\n",
    "    def baz(self, y):\n",
    "        z = y * 2\n",
    "        return z\n",
    "\"\"\"\n",
    "\n",
    "# 解析和提取实体关系\n",
    "old_ast = parse_code_to_ast(old_code)\n",
    "new_ast = parse_code_to_ast(new_code)\n",
    "\n",
    "old_entities, old_relations = extract_entities_and_relations(old_ast)\n",
    "new_entities, new_relations = extract_entities_and_relations(new_ast)\n",
    "\n",
    "# 构建知识图谱\n",
    "old_graph = build_knowledge_graph(old_entities, old_relations)\n",
    "new_graph = build_knowledge_graph(new_entities, new_relations)\n",
    "\n",
    "# 可视化知识图谱\n",
    "def visualize_graph(graph, title):\n",
    "    pos = nx.spring_layout(graph)\n",
    "    plt.figure(figsize=(12, 8))\n",
    "    nx.draw(graph, pos, with_labels=True, node_size=2000, node_color='skyblue', font_size=10, font_weight='bold', edge_color='gray')\n",
    "    edge_labels = nx.get_edge_attributes(graph, 'type')\n",
    "    nx.draw_networkx_edge_labels(graph, pos, edge_labels=edge_labels, font_color='red')\n",
    "    plt.title(title)\n",
    "    plt.show()\n",
    "\n",
    "visualize_graph(old_graph, 'Old Code Knowledge Graph')\n",
    "visualize_graph(new_graph, 'New Code Knowledge Graph')\n"
   ]
  },
  {
   "cell_type": "code",
   "execution_count": 6,
   "metadata": {},
   "outputs": [
    {
     "name": "stdout",
     "output_type": "stream",
     "text": [
      "Added Nodes: {'b', 'z'}\n",
      "Removed Nodes: {'a'}\n",
      "Added Edges: {('baz', 'z'), ('foo', 'b')}\n",
      "Removed Edges: {('foo', 'a')}\n"
     ]
    }
   ],
   "source": [
    "def compare_knowledge_graphs(old_graph, new_graph):\n",
    "    added_nodes = set(new_graph.nodes()) - set(old_graph.nodes())\n",
    "    removed_nodes = set(old_graph.nodes()) - set(new_graph.nodes())\n",
    "    \n",
    "    added_edges = set(new_graph.edges()) - set(old_graph.edges())\n",
    "    removed_edges = set(old_graph.edges()) - set(new_graph.edges())\n",
    "    \n",
    "    return added_nodes, removed_nodes, added_edges, removed_edges\n",
    "\n",
    "added_nodes, removed_nodes, added_edges, removed_edges = compare_knowledge_graphs(old_graph, new_graph)\n",
    "\n",
    "print(\"Added Nodes:\", added_nodes)\n",
    "print(\"Removed Nodes:\", removed_nodes)\n",
    "print(\"Added Edges:\", added_edges)\n",
    "print(\"Removed Edges:\", removed_edges)\n"
   ]
  }
 ],
 "metadata": {
  "kernelspec": {
   "display_name": "spaco",
   "language": "python",
   "name": "python3"
  },
  "language_info": {
   "codemirror_mode": {
    "name": "ipython",
    "version": 3
   },
   "file_extension": ".py",
   "mimetype": "text/x-python",
   "name": "python",
   "nbconvert_exporter": "python",
   "pygments_lexer": "ipython3",
   "version": "3.6.13"
  }
 },
 "nbformat": 4,
 "nbformat_minor": 2
}
